{
 "cells": [
  {
   "attachments": {},
   "cell_type": "markdown",
   "id": "7b9f5fc6",
   "metadata": {},
   "source": [
    "# Dataset Analysis\n"
   ]
  },
  {
   "cell_type": "code",
   "execution_count": 3,
   "id": "a20dd50f",
   "metadata": {},
   "outputs": [],
   "source": [
    "import os\n",
    "import pandas"
   ]
  },
  {
   "cell_type": "code",
   "execution_count": 6,
   "id": "f5d80cb5",
   "metadata": {},
   "outputs": [],
   "source": [
    "with open(\"jobs/10/dataset.csv\") as f:\n",
    "    df = pandas.read_csv(f, delimiter=\";\")"
   ]
  },
  {
   "cell_type": "code",
   "execution_count": 13,
   "id": "f27053bc",
   "metadata": {},
   "outputs": [],
   "source": [
    "# answer analysis\n",
    "counter_3 = 0\n",
    "counter_1 = 0\n",
    "for element in df.answer:\n",
    "    words = element.split(' ')\n",
    "    if len(words) <= 3:\n",
    "        counter_3 += 1\n",
    "        if len(words) == 1:\n",
    "            counter_1 += 1\n"
   ]
  },
  {
   "cell_type": "code",
   "execution_count": 14,
   "id": "99af8895",
   "metadata": {},
   "outputs": [
    {
     "data": {
      "text/plain": [
       "0.5555555555555556"
      ]
     },
     "execution_count": 14,
     "metadata": {},
     "output_type": "execute_result"
    }
   ],
   "source": [
    "counter_3/288"
   ]
  },
  {
   "cell_type": "code",
   "execution_count": 15,
   "id": "308a35f5",
   "metadata": {},
   "outputs": [
    {
     "data": {
      "text/plain": [
       "0.16666666666666666"
      ]
     },
     "execution_count": 15,
     "metadata": {},
     "output_type": "execute_result"
    }
   ],
   "source": [
    "counter_1/288"
   ]
  },
  {
   "cell_type": "code",
   "execution_count": 16,
   "id": "eca055a2",
   "metadata": {},
   "outputs": [],
   "source": [
    "# question analysis\n",
    "counter_w = 0\n",
    "counter_c = 0\n",
    "for element in df.question:\n",
    "    counter_c += len(element)\n",
    "    words = element.split(' ')\n",
    "    counter_w += len(words)"
   ]
  },
  {
   "cell_type": "code",
   "execution_count": 17,
   "id": "3b5e1b2d",
   "metadata": {},
   "outputs": [
    {
     "data": {
      "text/plain": [
       "9.84375"
      ]
     },
     "execution_count": 17,
     "metadata": {},
     "output_type": "execute_result"
    }
   ],
   "source": [
    "counter_w / 288"
   ]
  },
  {
   "cell_type": "code",
   "execution_count": 18,
   "id": "2ef0dd9e",
   "metadata": {},
   "outputs": [
    {
     "data": {
      "text/plain": [
       "65.83680555555556"
      ]
     },
     "execution_count": 18,
     "metadata": {},
     "output_type": "execute_result"
    }
   ],
   "source": [
    "counter_c/288"
   ]
  },
  {
   "cell_type": "code",
   "execution_count": null,
   "id": "5dc805ed",
   "metadata": {},
   "outputs": [],
   "source": []
  }
 ],
 "metadata": {
  "kernelspec": {
   "display_name": "prototype",
   "language": "python",
   "name": "python3"
  },
  "language_info": {
   "codemirror_mode": {
    "name": "ipython",
    "version": 3
   },
   "file_extension": ".py",
   "mimetype": "text/x-python",
   "name": "python",
   "nbconvert_exporter": "python",
   "pygments_lexer": "ipython3",
   "version": "3.10.9"
  },
  "vscode": {
   "interpreter": {
    "hash": "67add4ee6a7ed266ee49b435b2c4cb985971ca2f692358cec4bb8ce2cf9f0288"
   }
  }
 },
 "nbformat": 4,
 "nbformat_minor": 5
}
